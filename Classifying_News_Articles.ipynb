{
 "cells": [
  {
   "cell_type": "markdown",
   "metadata": {},
   "source": [
    "References to news pages collected from an web aggregator in the period from 10-March-2014 to 10-August-2014. The resources are grouped into categories that represent pages discussing the same story. News categories included in this dataset include business(b); science and technology(t); entertainment(e); and health(h).\n",
    "\n",
    "predict which class a particular resource belongs to given the title of the resource."
   ]
  },
  {
   "cell_type": "code",
   "execution_count": 1,
   "metadata": {},
   "outputs": [],
   "source": [
    "path = '/Users/herambdharmadhikari/OneDrive - stevens.edu/NLP/uci-news-aggregator.csv'\n",
    "\n",
    "# Import\n",
    "import numpy as np\n",
    "import pandas as pd\n",
    "import matplotlib.pyplot as plt\n",
    "\n",
    "import seaborn as sns\n",
    "import re\n",
    "from nltk.corpus import stopwords\n",
    "from sklearn.model_selection import train_test_split\n",
    "from sklearn.feature_extraction.text import CountVectorizer, TfidfVectorizer\n",
    "from sklearn.naive_bayes import MultinomialNB\n",
    "from sklearn.multiclass import OneVsRestClassifier\n",
    "from sklearn.linear_model import LogisticRegression\n",
    "from sklearn.metrics import accuracy_score ,confusion_matrix\n"
   ]
  },
  {
   "cell_type": "code",
   "execution_count": 2,
   "metadata": {},
   "outputs": [
    {
     "name": "stdout",
     "output_type": "stream",
     "text": [
      "   ID                                              TITLE  \\\n",
      "0   1  Fed official says weak data caused by weather,...   \n",
      "1   2  Fed's Charles Plosser sees high bar for change...   \n",
      "2   3  US open: Stocks fall after Fed official hints ...   \n",
      "3   4  Fed risks falling 'behind the curve', Charles ...   \n",
      "4   5  Fed's Plosser: Nasty Weather Has Curbed Job Gr...   \n",
      "\n",
      "                                                 URL          PUBLISHER  \\\n",
      "0  http://www.latimes.com/business/money/la-fi-mo...  Los Angeles Times   \n",
      "1  http://www.livemint.com/Politics/H2EvwJSK2VE6O...           Livemint   \n",
      "2  http://www.ifamagazine.com/news/us-open-stocks...       IFA Magazine   \n",
      "3  http://www.ifamagazine.com/news/fed-risks-fall...       IFA Magazine   \n",
      "4  http://www.moneynews.com/Economy/federal-reser...          Moneynews   \n",
      "\n",
      "  CATEGORY                          STORY             HOSTNAME      TIMESTAMP  \n",
      "0        b  ddUyU0VZz0BRneMioxUPQVP6sIxvM      www.latimes.com  1394470370698  \n",
      "1        b  ddUyU0VZz0BRneMioxUPQVP6sIxvM     www.livemint.com  1394470371207  \n",
      "2        b  ddUyU0VZz0BRneMioxUPQVP6sIxvM  www.ifamagazine.com  1394470371550  \n",
      "3        b  ddUyU0VZz0BRneMioxUPQVP6sIxvM  www.ifamagazine.com  1394470371793  \n",
      "4        b  ddUyU0VZz0BRneMioxUPQVP6sIxvM    www.moneynews.com  1394470372027  \n",
      "<class 'pandas.core.frame.DataFrame'>\n",
      "RangeIndex: 422419 entries, 0 to 422418\n",
      "Data columns (total 8 columns):\n",
      " #   Column     Non-Null Count   Dtype \n",
      "---  ------     --------------   ----- \n",
      " 0   ID         422419 non-null  int64 \n",
      " 1   TITLE      422419 non-null  object\n",
      " 2   URL        422419 non-null  object\n",
      " 3   PUBLISHER  422417 non-null  object\n",
      " 4   CATEGORY   422419 non-null  object\n",
      " 5   STORY      422419 non-null  object\n",
      " 6   HOSTNAME   422419 non-null  object\n",
      " 7   TIMESTAMP  422419 non-null  int64 \n",
      "dtypes: int64(2), object(6)\n",
      "memory usage: 25.8+ MB\n"
     ]
    }
   ],
   "source": [
    "# Lets Load the data and observe the class distribution\n",
    "# load data\n",
    "news = pd.read_csv(path)\n",
    "print(news.head())\n",
    "news.info()"
   ]
  },
  {
   "cell_type": "markdown",
   "metadata": {},
   "source": [
    "As we can see our aim is to classify the articles, so lets keep the relevant columns and remove the rest. i.e. lets keep Title an category."
   ]
  },
  {
   "cell_type": "code",
   "execution_count": 3,
   "metadata": {},
   "outputs": [],
   "source": [
    "# Subset the data\n",
    "news = news[['TITLE','CATEGORY']]"
   ]
  },
  {
   "cell_type": "code",
   "execution_count": 4,
   "metadata": {},
   "outputs": [
    {
     "data": {
      "text/html": [
       "<div>\n",
       "<style scoped>\n",
       "    .dataframe tbody tr th:only-of-type {\n",
       "        vertical-align: middle;\n",
       "    }\n",
       "\n",
       "    .dataframe tbody tr th {\n",
       "        vertical-align: top;\n",
       "    }\n",
       "\n",
       "    .dataframe thead th {\n",
       "        text-align: right;\n",
       "    }\n",
       "</style>\n",
       "<table border=\"1\" class=\"dataframe\">\n",
       "  <thead>\n",
       "    <tr style=\"text-align: right;\">\n",
       "      <th></th>\n",
       "      <th>TITLE</th>\n",
       "      <th>CATEGORY</th>\n",
       "    </tr>\n",
       "  </thead>\n",
       "  <tbody>\n",
       "    <tr>\n",
       "      <th>0</th>\n",
       "      <td>Fed official says weak data caused by weather,...</td>\n",
       "      <td>b</td>\n",
       "    </tr>\n",
       "    <tr>\n",
       "      <th>1</th>\n",
       "      <td>Fed's Charles Plosser sees high bar for change...</td>\n",
       "      <td>b</td>\n",
       "    </tr>\n",
       "    <tr>\n",
       "      <th>2</th>\n",
       "      <td>US open: Stocks fall after Fed official hints ...</td>\n",
       "      <td>b</td>\n",
       "    </tr>\n",
       "    <tr>\n",
       "      <th>3</th>\n",
       "      <td>Fed risks falling 'behind the curve', Charles ...</td>\n",
       "      <td>b</td>\n",
       "    </tr>\n",
       "    <tr>\n",
       "      <th>4</th>\n",
       "      <td>Fed's Plosser: Nasty Weather Has Curbed Job Gr...</td>\n",
       "      <td>b</td>\n",
       "    </tr>\n",
       "  </tbody>\n",
       "</table>\n",
       "</div>"
      ],
      "text/plain": [
       "                                               TITLE CATEGORY\n",
       "0  Fed official says weak data caused by weather,...        b\n",
       "1  Fed's Charles Plosser sees high bar for change...        b\n",
       "2  US open: Stocks fall after Fed official hints ...        b\n",
       "3  Fed risks falling 'behind the curve', Charles ...        b\n",
       "4  Fed's Plosser: Nasty Weather Has Curbed Job Gr...        b"
      ]
     },
     "execution_count": 4,
     "metadata": {},
     "output_type": "execute_result"
    }
   ],
   "source": [
    "news.head()"
   ]
  },
  {
   "cell_type": "code",
   "execution_count": 5,
   "metadata": {},
   "outputs": [],
   "source": [
    "# observing the distribution of the class\n",
    "dist = news['CATEGORY'].value_counts()"
   ]
  },
  {
   "cell_type": "code",
   "execution_count": 6,
   "metadata": {},
   "outputs": [
    {
     "name": "stdout",
     "output_type": "stream",
     "text": [
      "e    152469\n",
      "b    115967\n",
      "t    108344\n",
      "m     45639\n",
      "Name: CATEGORY, dtype: int64                                                TITLE CATEGORY\n",
      "0  Fed official says weak data caused by weather,...        b\n",
      "1  Fed's Charles Plosser sees high bar for change...        b\n",
      "2  US open: Stocks fall after Fed official hints ...        b\n",
      "3  Fed risks falling 'behind the curve', Charles ...        b\n",
      "4  Fed's Plosser: Nasty Weather Has Curbed Job Gr...        b\n"
     ]
    }
   ],
   "source": [
    "print(dist,news.head())"
   ]
  },
  {
   "cell_type": "code",
   "execution_count": 7,
   "metadata": {},
   "outputs": [],
   "source": [
    "#Lets start preprocessing the data\n",
    "stop = set(stopwords.words('english'))\n",
    "# Retaning the alphabets using lambda functions\n",
    "news['TITLE'] = news['TITLE'].apply(lambda x:re.sub(\"[^a-zA-Z]\",\" \",x))\n",
    "#Convert into lower case and tokenize\n",
    "news['TITLE'] = news['TITLE'].apply(lambda x:x.lower().split())\n",
    "#remove stopwords from every instance\n",
    "news['TITLE'] = news['TITLE'].apply(lambda x:[i for i in x if i not in stop])\n",
    "# join list elements\n",
    "news['TITLE'] = news['TITLE'].apply(lambda x: ' '.join(x))\n",
    "# split into training and test sets\n",
    "X_train, X_test, Y_train, Y_test = train_test_split(news[\"TITLE\"], news[\"CATEGORY\"],\n",
    "                                                                            test_size = 0.2,random_state=3)"
   ]
  },
  {
   "cell_type": "code",
   "execution_count": 8,
   "metadata": {},
   "outputs": [],
   "source": [
    "#intializing CountVectorizer\n",
    "count_vectorizer = CountVectorizer()\n",
    "#intializing TFIDFVectorizer\n",
    "tfidf_vectorizer = TfidfVectorizer(ngram_range=(1,3),)\n",
    "#fit each vectorizer on training and test features with text data and transform them to vectors.\n",
    "# Count vectorizer on X train on X_test\n",
    "X_train_count = count_vectorizer.fit_transform(X_train)\n",
    "X_test_count =  count_vectorizer.transform(X_test)\n",
    "# TFidf - vectorizer on X train on X_test\n",
    "X_train_tfidf = tfidf_vectorizer.fit_transform(X_train)\n",
    "X_test_tfidf = tfidf_vectorizer.transform(X_test)\n"
   ]
  },
  {
   "cell_type": "code",
   "execution_count": 9,
   "metadata": {},
   "outputs": [
    {
     "name": "stdout",
     "output_type": "stream",
     "text": [
      "0.9268618910089484 0.9323895648880262\n"
     ]
    }
   ],
   "source": [
    "\n",
    "# initialize multinomial naive bayes\n",
    "nb_1 = MultinomialNB()\n",
    "nb_2 = MultinomialNB()\n",
    "\n",
    "# fit on count vectorizer training data\n",
    "nb_1.fit(X_train_count, Y_train)\n",
    "\n",
    "# fit on tfidf vectorizer training data\n",
    "nb_2.fit(X_train_tfidf, Y_train)\n",
    "\n",
    "# accuracy with count vectorizer\n",
    "acc_count_nb = accuracy_score(nb_1.predict(X_test_count), Y_test)\n",
    "\n",
    "# accuracy with tfidf vectorizer\n",
    "acc_tfidf_nb = accuracy_score(nb_2.predict(X_test_tfidf), Y_test)\n",
    "\n",
    "# display accuracies\n",
    "print(acc_count_nb, acc_tfidf_nb)\n",
    "\n",
    "# Code ends here"
   ]
  },
  {
   "cell_type": "markdown",
   "metadata": {},
   "source": [
    "# Predicting with Logistic Regression\n",
    "Logistic Regression can be used for binary classification but when combined with OneVsRest classifer, it can perform multiclass classification as well. We will be using one such algorithm to train and test it on both the versions i.e. Bag-of-words and TF-IDF ones and then checking the accuracy on both of them"
   ]
  },
  {
   "cell_type": "code",
   "execution_count": 12,
   "metadata": {},
   "outputs": [
    {
     "name": "stdout",
     "output_type": "stream",
     "text": [
      "The accuracy using Bag-of-words approach is: 0.9464632356422518\n",
      "\n",
      "\n",
      "The accuracy using TF-IDF approach is: 0.9428649211685053\n"
     ]
    }
   ],
   "source": [
    "#Lets intialize OneVsRest Logistics classifier\n",
    "logreg_1 = OneVsRestClassifier(LogisticRegression(random_state = 10,max_iter = 10000))\n",
    "logreg_2 = OneVsRestClassifier(LogisticRegression(random_state = 10,max_iter = 100000))\n",
    "# the resaon for intializing 2 classifiers because we are comparing both Bag-of-words and TF-IDF approach.\n",
    "#Lets's fit the models\n",
    "# Bag-of-words\n",
    "logreg_1.fit(X_train_count,Y_train)\n",
    "#TF-IDF\n",
    "logreg_2.fit(X_train_tfidf,Y_train)\n",
    "\n",
    "# Finding the accuracy.\n",
    "acc_count_logreg = accuracy_score(logreg_1.predict(X_test_count),Y_test)\n",
    "acc_tfidf_logreg = accuracy_score(logreg_2.predict(X_test_tfidf),Y_test)\n",
    "\n",
    "#Comparing the results\n",
    "print(\"The accuracy using Bag-of-words approach is:\",acc_count_logreg)\n",
    "print(\"\\n\")\n",
    "print(\"The accuracy using TF-IDF approach is:\", acc_tfidf_logreg)\n"
   ]
  },
  {
   "cell_type": "code",
   "execution_count": null,
   "metadata": {},
   "outputs": [],
   "source": []
  }
 ],
 "metadata": {
  "kernelspec": {
   "display_name": "Python 3",
   "language": "python",
   "name": "python3"
  },
  "language_info": {
   "codemirror_mode": {
    "name": "ipython",
    "version": 3
   },
   "file_extension": ".py",
   "mimetype": "text/x-python",
   "name": "python",
   "nbconvert_exporter": "python",
   "pygments_lexer": "ipython3",
   "version": "3.7.6"
  }
 },
 "nbformat": 4,
 "nbformat_minor": 4
}
